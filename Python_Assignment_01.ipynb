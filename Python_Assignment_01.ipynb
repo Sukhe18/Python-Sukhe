{
  "cells": [
    {
      "cell_type": "markdown",
      "metadata": {
        "id": "pfyFWVuQa_Ut"
      },
      "source": [
        "# Python Basics Assignment\n",
        "\n",
        "\n",
        "\n",
        "\n"
      ]
    },
    {
      "cell_type": "markdown",
      "metadata": {
        "id": "BscywTV9bVsE"
      },
      "source": [
        "#Question:-"
      ]
    },
    {
      "cell_type": "markdown",
      "metadata": {
        "id": "AMGqvSi_y76X"
      },
      "source": [
        "01. What is Python, and why is it popular?\n",
        "  -\n",
        "  Python is a high-level interpreted programming language knows for its readability and simplicity.\n",
        "  -It follows a functional, object-oriented programming language, which means it's organized around objects rather than actions and makes it efficient for developers.\n",
        "  -Created by Guido van Rossum in 1991.\n",
        "\n",
        "  It is popular:-\n",
        "  \n",
        "  -Easy to learn\n",
        "\n",
        "  -Open source\n",
        "  \n",
        "  -Large collection of library, function and modules\n",
        "\n",
        "  -Effective and multiplatform support\n",
        "\n",
        "  -Adoptation in industries and academis.\n",
        "\n",
        "\n",
        "Q2 . What is an interpreter in Python?\n",
        "- Translates and executed the code line by line during runtime.\n",
        "\n",
        "\n",
        "Q3 . What are pre-defined keywords in Python?\n",
        "\n",
        "  - Keywords are predefined words that hold a special meaning and have specific perpose in python programming.\n",
        "\n",
        "\n",
        "Q4.  Can keywords be used as variable names?\n",
        "\n",
        "  - No keywords cannot be used as variable names.\n",
        "\n",
        "\n",
        "Q5.  What is mutability in Python?\n",
        "\n",
        "  - Mutability means whether an object can be changed after it is created.\n",
        "\n",
        "Q6.  Why are lists mutable, but tuples are immutable?\n",
        "\n",
        "   - A list can be modified, but a tuple cannot be modified.\n",
        "\n",
        "\n",
        "Q7.  What is the difference between “==” and “is” operators in Python?\n",
        "\n",
        "   - (==) help to checks if two variables point to the same object in memory and compares the contents of two variables.\n",
        "   - (is) helps to check if two variables point to the same object in memory.\n",
        "\n",
        "Q8.  What are logical operators in Python?\n",
        "\n",
        "  - Logical operators in Python are used to combine and manipulate Boolean values True or False.They are crucial for controlling program flow based on multiple conditions.\n",
        "\n",
        "Q9.  What is type casting in Python?\n",
        "\n",
        "   - Type casting in Python means converting the value of one data type into another.\n",
        "\n",
        "\n",
        "Q10.   What is the difference between implicit and explicit type casting?\n",
        "\n",
        "   - Implicit casting, also called automatic type conversion, is done automatically by the compiler when different data types are mixed in an expression. Explicit casting is performed manually by the programmer by explicitly specifying the desired data type.\n",
        "\n",
        "\n",
        "Q11.   What is the purpose of conditional statements in Python?\n",
        "\n",
        "   - Conditional statements help us to code decisions based on some precondition. (True or False)\n",
        "\n",
        "\n",
        "Q12.   How does the elif statement work ?\n",
        "\n",
        "  - The elif statement checks multiple conditions one by one after an if condition.   \n",
        "\n",
        "Q13.   What is the difference between for and while loops?\n",
        "\n",
        "  - or and while are looping structures used to repeat a block of code, but they are used in different situations.\n",
        "\n",
        "\n",
        "Q14.  Describe a scenario where a while loop is more suitable than a for       loop?\n",
        "\n",
        "  - A while loop is more suitable than a for loop when you don't know in advance how many times the loop should run.\n",
        "  -Unlike for loops, which are based on a fixed range or sequence, while loops are better when the program must wait for something to happen.\n",
        "\n",
        "Practical Questions:-\n",
        "\n",
        "    "
      ]
    },
    {
      "cell_type": "markdown",
      "metadata": {
        "id": "0HsGxscprubR"
      },
      "source": [
        "Q1. Write a Python program to print \"Hello, World!\"\n",
        "\n",
        "print(\"Hello, World!\")\n"
      ]
    },
    {
      "cell_type": "code",
      "execution_count": null,
      "metadata": {
        "colab": {
          "base_uri": "https://localhost:8080/"
        },
        "id": "J35FvRgmtbFn",
        "outputId": "b88a9797-8283-4fda-b2ae-ee7b97407719"
      },
      "outputs": [
        {
          "name": "stdout",
          "output_type": "stream",
          "text": [
            "Object `age` not found.\n",
            "My name is Sukhpreet\n",
            "I am 26 year old\n"
          ]
        }
      ],
      "source": [
        "Q2. Write a Python program that displays your name and age?\n",
        "\n",
        "name= \"Sukhpreet\"\n",
        "age= 26\n",
        "\n",
        "print(\"My name is\",name)\n",
        "print(\"I am\", age,\"year old\")"
      ]
    },
    {
      "cell_type": "code",
      "execution_count": null,
      "metadata": {
        "colab": {
          "base_uri": "https://localhost:8080/"
        },
        "id": "xi4nfCXgwuyv",
        "outputId": "f39c14c9-df9a-4ff7-fbe3-fbebc66554a1"
      },
      "outputs": [
        {
          "name": "stdout",
          "output_type": "stream",
          "text": [
            "Object `library` not found.\n",
            "\n",
            "Here is a list of the Python keywords.  Enter any keyword to get more help.\n",
            "\n",
            "False               class               from                or\n",
            "None                continue            global              pass\n",
            "True                def                 if                  raise\n",
            "and                 del                 import              return\n",
            "as                  elif                in                  try\n",
            "assert              else                is                  while\n",
            "async               except              lambda              with\n",
            "await               finally             nonlocal            yield\n",
            "break               for                 not                 \n",
            "\n"
          ]
        }
      ],
      "source": [
        "Q3. Write code to print all the pre-defined keywords in Python using the keyword library?\n",
        "\n",
        "help('keywords')"
      ]
    },
    {
      "cell_type": "code",
      "execution_count": null,
      "metadata": {
        "colab": {
          "background_save": true,
          "base_uri": "https://localhost:8080/"
        },
        "id": "TTorQMCm5kO1",
        "outputId": "5b2696c7-ddd9-4c5d-f416-799d57c56ef9"
      },
      "outputs": [
        {
          "name": "stdout",
          "output_type": "stream",
          "text": [
            "Object `keyword` not found.\n"
          ]
        }
      ],
      "source": [
        "Q4. Write a program that checks if a given word is a Python keyword?\n",
        "\n",
        "word = input(\"Word: \")\n",
        "print(word in keyword.kwlist)\n"
      ]
    },
    {
      "cell_type": "code",
      "execution_count": null,
      "metadata": {
        "id": "OlKr7LY-9L6X",
        "colab": {
          "base_uri": "https://localhost:8080/"
        },
        "outputId": "c0b4ffa2-22eb-4dbf-c5cd-96f5ac3da66c"
      },
      "outputs": [
        {
          "output_type": "stream",
          "name": "stdout",
          "text": [
            "Object `each` not found.\n",
            "Original list: [10, 20, 30]\n",
            "Modified list: [10, 200, 30]\n",
            "Original tuple: (10, 20, 30)\n"
          ]
        }
      ],
      "source": [
        "#Q5. Create a list and tuple in Python, and demonstrate how attempting to change an element works differently\n",
        "for each?\n",
        "\n",
        "my_list = [10, 20, 30]\n",
        "print(\"Original list:\", my_list)\n",
        "\n",
        "my_list[1] = 200\n",
        "print(\"Modified list:\", my_list)\n",
        "\n",
        "my_tuple = (10, 20, 30)\n",
        "print(\"Original tuple:\", my_tuple)\n",
        "\n"
      ]
    },
    {
      "cell_type": "code",
      "source": [
        "#Q6.  Write a function to demonstrate the behavior of mutable and immutable arguments.\n",
        "\n",
        "def modify_values(score, score_set):\n",
        "    score += 10.5\n",
        "    score_set.add(99)\n",
        "    print(\"Inside function:\")\n",
        "    print(\"score =\", score)\n",
        "    print(\"score_set =\", score_set)\n",
        "\n",
        "my_score = 89.5\n",
        "my_set = {45, 67}\n",
        "\n",
        "modify_values(my_score, my_set)\n",
        "\n",
        "print(\"Outside function:\")\n",
        "print(\"my_score =\", my_score)\n",
        "print(\"my_set =\", my_set)"
      ],
      "metadata": {
        "colab": {
          "base_uri": "https://localhost:8080/"
        },
        "id": "T7zsWx-wvEEY",
        "outputId": "0f94df20-d6a6-45af-9642-f0ff2a5e5537"
      },
      "execution_count": null,
      "outputs": [
        {
          "output_type": "stream",
          "name": "stdout",
          "text": [
            "Inside function:\n",
            "score = 100.0\n",
            "score_set = {99, 67, 45}\n",
            "Outside function:\n",
            "my_score = 89.5\n",
            "my_set = {99, 67, 45}\n"
          ]
        }
      ]
    },
    {
      "cell_type": "code",
      "source": [
        "#Q7.  Write a program that performs basic arithmetic operations on two user-input numbers\n",
        "\n",
        "def calculate(a, b):\n",
        "    print(\"Addition:\", a + b)\n",
        "    print(\"Subtraction:\", a - b)\n",
        "    print(\"Multiplication:\", a * b)\n",
        "    if b != 0:\n",
        "        print(\"Division:\", a / b)\n",
        "    else:\n",
        "        print(\"Division: Cannot divide by zero\")\n",
        "\n",
        "# Taking user input\n",
        "x = float(input(\"Enter first number: \"))\n",
        "y = float(input(\"Enter second number: \"))"
      ],
      "metadata": {
        "id": "yL1TI-Fa0Prg",
        "colab": {
          "base_uri": "https://localhost:8080/"
        },
        "outputId": "809abaa7-239a-4bcf-f425-f824bda27f3c"
      },
      "execution_count": 8,
      "outputs": [
        {
          "name": "stdout",
          "output_type": "stream",
          "text": [
            "Enter first number: 56\n",
            "Enter second number: 255\n"
          ]
        }
      ]
    },
    {
      "cell_type": "code",
      "source": [
        "#Q8  Write a program to demonstrate the use of logical operators.\n",
        "\n",
        "a = int(input(\"Enter first number: \"))\n",
        "b = int(input(\"Enter second number: \"))\n",
        "\n",
        "if a > 0 and b > 0:\n",
        "    print(\"Both numbers are positive\")\n",
        "else:\n",
        "    print(\"At least one number is not positive\")\n",
        "\n",
        "if a > 0 or b > 0:\n",
        "    print(\"At least one number is positive\")\n",
        "else:\n",
        "    print(\"Both numbers are not positive\")\n",
        "\n",
        "print(\"a is NOT greater than b:\", not (a > b))"
      ],
      "metadata": {
        "id": "7W6a8LRn3BGc",
        "colab": {
          "base_uri": "https://localhost:8080/"
        },
        "outputId": "ef10b76e-b173-4333-cc37-345e87abc4f9"
      },
      "execution_count": 7,
      "outputs": [
        {
          "output_type": "stream",
          "name": "stdout",
          "text": [
            "Enter first number: 9\n",
            "Enter second number: 12\n",
            "Both numbers are positive\n",
            "At least one number is positive\n",
            "a is NOT greater than b: True\n"
          ]
        }
      ]
    },
    {
      "cell_type": "code",
      "source": [
        "#Q.9  Write a Python program to convert user input from string to integer, float, and boolean types.\n",
        "\n",
        "val1 = input(\"Enter first value: \")\n",
        "val2 = input(\"Enter second value: \")\n",
        "\n",
        "try:\n",
        "    int1 = int(val1)\n",
        "    int2 = int(val2)\n",
        "    print(\"Sum of integers:\", int1 + int2)\n",
        "except ValueError:\n",
        "    print(\"Invalid integers\")\n",
        "\n",
        "try:\n",
        "    float1 = float(val1)\n",
        "    float2 = float(val2)\n",
        "    print(\"Sum of floats:\", float1 + float2)\n",
        "except ValueError:\n",
        "    print(\"Invalid floats\")\n",
        "\n",
        "bool1 = bool(val1)\n",
        "bool2 = bool(val2)\n",
        "print(\"Boolean AND:\", bool1 and bool2)\n",
        "print(\"Boolean OR:\", bool1 or bool2)"
      ],
      "metadata": {
        "id": "4qPwbCdB4arS",
        "colab": {
          "base_uri": "https://localhost:8080/"
        },
        "outputId": "148f21af-87ba-426a-e067-8b98182419eb"
      },
      "execution_count": 6,
      "outputs": [
        {
          "output_type": "stream",
          "name": "stdout",
          "text": [
            "Enter first value: 5\n",
            "Enter second value: 8\n",
            "Sum of integers: 13\n",
            "Sum of floats: 13.0\n",
            "Boolean AND: True\n",
            "Boolean OR: True\n"
          ]
        }
      ]
    },
    {
      "cell_type": "code",
      "source": [
        "#Q10.  Write code to demonstrate type casting with list elements.\n",
        "\n",
        "str_list = ['10', '20', '30', '40']\n",
        "\n",
        "int_list = [int(x) for x in str_list]\n",
        "print(\"Integer list:\", int_list)\n",
        "\n",
        "float_list = [float(x) for x in str_list]\n",
        "print(\"Float list:\", float_list)\n",
        "\n",
        "str_again_list = [str(x) for x in int_list]\n",
        "print(\"String list again:\", str_again_list)\n",
        "\n",
        "bool_list = [bool(x) for x in int_list]\n",
        "print(\"Boolean list:\", bool_list)"
      ],
      "metadata": {
        "colab": {
          "base_uri": "https://localhost:8080/"
        },
        "id": "Vkgxf4v-5X2A",
        "outputId": "226cc8a9-56ac-4344-fa08-7abf9be33dea"
      },
      "execution_count": null,
      "outputs": [
        {
          "output_type": "stream",
          "name": "stdout",
          "text": [
            "Integer list: [10, 20, 30, 40]\n",
            "Float list: [10.0, 20.0, 30.0, 40.0]\n",
            "String list again: ['10', '20', '30', '40']\n",
            "Boolean list: [True, True, True, True]\n"
          ]
        }
      ]
    },
    {
      "cell_type": "code",
      "source": [
        "#Q11.   Write a program that checks if a number is positive, negative, or zero.\n",
        "num = float(input(\"Enter a number: \"))\n",
        "\n",
        "if num > 0:\n",
        "    print(\"The number is positive.\")\n",
        "elif num < 0:\n",
        "    print(\"The number is negative.\")\n",
        "else:\n",
        "    print(\"The number is zero.\")"
      ],
      "metadata": {
        "id": "kAYYzm0_6NiA",
        "colab": {
          "base_uri": "https://localhost:8080/"
        },
        "outputId": "3945b95a-c105-4cae-d88d-6ff1d8c03470"
      },
      "execution_count": 5,
      "outputs": [
        {
          "output_type": "stream",
          "name": "stdout",
          "text": [
            "Enter a number: 69\n",
            "The number is positive.\n"
          ]
        }
      ]
    },
    {
      "cell_type": "code",
      "source": [
        "#Q12.  Write a for loop to print numbers from 1 to 10.\n",
        "\n",
        "for x in range(1, 11):\n",
        "    print(x)"
      ],
      "metadata": {
        "id": "p0tdZ9ZZ7wU1",
        "colab": {
          "base_uri": "https://localhost:8080/"
        },
        "outputId": "84bc6401-e0cb-4525-9166-b71c826ef9dc"
      },
      "execution_count": 1,
      "outputs": [
        {
          "output_type": "stream",
          "name": "stdout",
          "text": [
            "1\n",
            "2\n",
            "3\n",
            "4\n",
            "5\n",
            "6\n",
            "7\n",
            "8\n",
            "9\n",
            "10\n"
          ]
        }
      ]
    },
    {
      "cell_type": "code",
      "source": [
        "#Q13.  Write a Python program to find the sum of all even numbers between 1 and 50?\n",
        "\n",
        "sum_even = 0\n",
        "\n",
        "for i in range(1, 51):\n",
        "    if i % 2 == 0:\n",
        "        sum_even += i\n",
        "\n",
        "print(\"Sum of even numbers from 1 to 50 is:\", sum_even)\n"
      ],
      "metadata": {
        "id": "6vfVPwAc8d-A",
        "colab": {
          "base_uri": "https://localhost:8080/"
        },
        "outputId": "1ea184bb-0e59-4bf7-ff87-52e7e1e79e41"
      },
      "execution_count": 2,
      "outputs": [
        {
          "output_type": "stream",
          "name": "stdout",
          "text": [
            "Sum of even numbers from 1 to 50 is: 650\n"
          ]
        }
      ]
    },
    {
      "cell_type": "code",
      "source": [
        "#Q14. Write a program to reverse a string using a while loop?\n",
        "\n",
        "text=input(\"Enter a string: \")\n",
        "reversed_text = \"\"\n",
        "index = len(text) - 1\n",
        "\n",
        "while index >= 0:\n",
        "    reversed_text += text[index]\n",
        "    index -= 1\n",
        "\n",
        "print(\"Reversed string:\", reversed_text)\n"
      ],
      "metadata": {
        "id": "-PpY2T9H9ouZ",
        "colab": {
          "base_uri": "https://localhost:8080/"
        },
        "outputId": "c7d0d5fe-8956-40fb-fa84-57ec622e6588"
      },
      "execution_count": 3,
      "outputs": [
        {
          "output_type": "stream",
          "name": "stdout",
          "text": [
            "Enter a string: sukhe\n",
            "Reversed string: ehkus\n"
          ]
        }
      ]
    },
    {
      "cell_type": "code",
      "source": [
        "#Q15.  Write a Python program to calculate the factorial of a number provided by the user using a while loop.\n",
        "\n",
        "num = int(input(\"Enter a number: \"))\n",
        "factorial = 1\n",
        "i = 1\n",
        "\n",
        "while i <= num:\n",
        "    factorial *= i\n",
        "    i += 1\n",
        "\n",
        "print(\"Factorial of\", num, \"is:\", factorial)\n"
      ],
      "metadata": {
        "id": "DBLeuv6m-mkk",
        "colab": {
          "base_uri": "https://localhost:8080/"
        },
        "outputId": "ee651f1e-de6f-43d6-c981-72590224c49e"
      },
      "execution_count": 4,
      "outputs": [
        {
          "output_type": "stream",
          "name": "stdout",
          "text": [
            "Enter a number: 54\n",
            "Factorial of 54 is: 230843697339241380472092742683027581083278564571807941132288000000000000\n"
          ]
        }
      ]
    },
    {
      "cell_type": "code",
      "source": [],
      "metadata": {
        "id": "w34rMWraZ3Hh"
      },
      "execution_count": null,
      "outputs": []
    }
  ],
  "metadata": {
    "colab": {
      "provenance": []
    },
    "kernelspec": {
      "display_name": "Python 3",
      "name": "python3"
    },
    "language_info": {
      "name": "python"
    }
  },
  "nbformat": 4,
  "nbformat_minor": 0
}